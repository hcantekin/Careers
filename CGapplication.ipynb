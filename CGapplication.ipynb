{
  "nbformat": 4,
  "nbformat_minor": 0,
  "metadata": {
    "colab": {
      "provenance": [],
      "authorship_tag": "ABX9TyMIuqMDcw3WNxEmVtbKPhys",
      "include_colab_link": true
    },
    "kernelspec": {
      "name": "python3",
      "display_name": "Python 3"
    },
    "language_info": {
      "name": "python"
    }
  },
  "cells": [
    {
      "cell_type": "markdown",
      "metadata": {
        "id": "view-in-github",
        "colab_type": "text"
      },
      "source": [
        "<a href=\"https://colab.research.google.com/github/hcantekin/Careers/blob/main/CGapplication.ipynb\" target=\"_parent\"><img src=\"https://colab.research.google.com/assets/colab-badge.svg\" alt=\"Open In Colab\"/></a>"
      ]
    },
    {
      "cell_type": "code",
      "execution_count": 2,
      "metadata": {
        "colab": {
          "base_uri": "https://localhost:8080/"
        },
        "id": "w8_hR2dq-v7M",
        "outputId": "fa1e61e9-97bf-4124-e570-758f99559cb7"
      },
      "outputs": [
        {
          "output_type": "stream",
          "name": "stdout",
          "text": [
            "Please enter your name: h\n",
            "Please enter your email address: h\n",
            "Hi h! We will be contacting you shortly at h Have a nice day!\n"
          ]
        }
      ],
      "source": [
        "name = str(input('Please enter your name: '))\n",
        "email = str(input('Please enter your email address: '))\n",
        "print(\"Hi \" + str(name) + \"! We will be contacting you shortly at \" + str(email) + \" Have a nice day!\")"
      ]
    },
    {
      "cell_type": "code",
      "source": [
        "hour = int(input(\"Enter the hour\"))\n",
        "# Inputting the time in 0 to 23 hour format.\n",
        "guard = input(\"Is there a guard present? True or False.\")\n",
        "# Inputting whether there is a guard as a boolean, true or false.\n",
        "if hour in range (7, 17):\n",
        "   print(\"You're in!\")\n",
        "elif guard == \"True\":\n",
        "  print(\"You're in!\")\n",
        "else:\n",
        "  print(\"Womp womp, no entry.\")\n",
        "# Printing the correct message depending on whether appropiate conditions are met."
      ],
      "metadata": {
        "colab": {
          "base_uri": "https://localhost:8080/"
        },
        "id": "3JtmVRr8FCPd",
        "outputId": "da79d076-25fd-4d24-e8f5-9e7afd23457f"
      },
      "execution_count": 41,
      "outputs": [
        {
          "output_type": "stream",
          "name": "stdout",
          "text": [
            "Enter the hour18\n",
            "Is there a guard present? True or False.False\n",
            "Womp womp, no entry.\n"
          ]
        }
      ]
    },
    {
      "cell_type": "code",
      "source": [
        "line = [\"Anna\", \"Bea\", \"Chris\", \"Dina\", \"Em\"]\n",
        "print(line)"
      ],
      "metadata": {
        "colab": {
          "base_uri": "https://localhost:8080/"
        },
        "id": "Ve6JZZvoVs2A",
        "outputId": "d121d783-7e93-4d55-eb36-4c8e495252b0"
      },
      "execution_count": 53,
      "outputs": [
        {
          "output_type": "stream",
          "name": "stdout",
          "text": [
            "['Anna', 'Bea', 'Chris', 'Dina', 'Em']\n"
          ]
        }
      ]
    },
    {
      "cell_type": "code",
      "source": [
        "hour = int(input(\"Enter the hour\"))\n",
        "# Inputting the time in 0 to 23 hour format.\n",
        "guard = input(\"Is there a guard present? True or False.\")\n",
        "# Inputting whether there is a guard by asking user to type True or False, therefore condition depends on whether the string 'True' is answered. I struggled to get the code to work when converting guard input to boolean format because by default it always assumed guard to be True.\n",
        "if hour in range (7, 17):\n",
        "   print(\"You're in!\")\n",
        "elif guard == \"True\":\n",
        "  print(\"You're in!\")\n",
        "else:\n",
        "  print(\"Womp womp, no entry.\")\n",
        "# Printing the correct message depending on whether appropiate conditions are met."
      ],
      "metadata": {
        "colab": {
          "base_uri": "https://localhost:8080/"
        },
        "id": "A5cNs8jBJCB8",
        "outputId": "e575b598-0e77-4cf6-f054-e4f1407eba20"
      },
      "execution_count": 47,
      "outputs": [
        {
          "output_type": "stream",
          "name": "stdout",
          "text": [
            "Enter the hour19\n",
            "Is there a guard present? True or False. False\n",
            "Womp womp, no entry.\n"
          ]
        }
      ]
    },
    {
      "cell_type": "code",
      "source": [
        "line = [\"Anna\", \"Bea\", \"Chris\", \"Dina\", \"Em\"]\n",
        "print(line)\n",
        "line.insert(0, \"Jenny\")\n",
        "print(line)\n",
        "line.remove(\"Bea\")\n",
        "print(line)\n",
        "line.append(\"Alice\")\n",
        "print(line)\n",
        ""
      ],
      "metadata": {
        "colab": {
          "base_uri": "https://localhost:8080/"
        },
        "id": "aAJZoqVAW2CD",
        "outputId": "c669ce01-f0d8-4ac4-f318-f19a3c50d78a"
      },
      "execution_count": 54,
      "outputs": [
        {
          "output_type": "stream",
          "name": "stdout",
          "text": [
            "['Anna', 'Bea', 'Chris', 'Dina', 'Em']\n",
            "['Jenny', 'Anna', 'Bea', 'Chris', 'Dina', 'Em']\n",
            "['Jenny', 'Anna', 'Chris', 'Dina', 'Em']\n",
            "['Jenny', 'Anna', 'Chris', 'Dina', 'Em', 'Alice']\n"
          ]
        }
      ]
    },
    {
      "cell_type": "code",
      "source": [
        "# Create a variable to store the given string \"You can have data without information, but you cannot have information without data.\"\n",
        "# Convert the given string to lowercase\n",
        "# Create a list containing every lowercase letter of the English alphabet\n",
        "\n",
        "# for every letter in the alphabet list:\n",
        "#     Create a variable to store the frequency of each letter in the string and assign it an initial value of zero\n",
        "#     for every letter in the given string:\n",
        "#         if the letter in the string is the same as the letter in the alphabet list\n",
        "#             increase the value of the frequency variable by one.\n",
        "#     if the value of the frequency variable does not equal zero:\n",
        "#         print the letter in the alphabet list followed by a colon and the value of the frequency variable"
      ],
      "metadata": {
        "id": "cxHJGEFMYQaq"
      },
      "execution_count": null,
      "outputs": []
    },
    {
      "cell_type": "code",
      "source": [
        "myString = \"You can have data without information, but you cannot have information without data.\"\n",
        "print(myString.lower())\n",
        "\n",
        "myList = ['a','b','c','d','e','f','g','h','i','j','k','l','m','n','o','p','q','r','s','t','u','v','w','x','y','z']\n",
        "\n",
        "for i in range(0,26):\n",
        "    letters = print(myList[i])\n",
        "\n",
        "for i in range(0,26):\n",
        "    count = print(myString.count(myList[i]))\n",
        "\n",
        "\n",
        "\n",
        "\n",
        "\n",
        "\n",
        "\n",
        "\n",
        "\n"
      ],
      "metadata": {
        "colab": {
          "base_uri": "https://localhost:8080/"
        },
        "id": "lVxwBPMDYV59",
        "outputId": "905972de-3eda-4845-a2b6-1515232dcf13"
      },
      "execution_count": 120,
      "outputs": [
        {
          "output_type": "stream",
          "name": "stdout",
          "text": [
            "you can have data without information, but you cannot have information without data.\n",
            "a\n",
            "b\n",
            "c\n",
            "d\n",
            "e\n",
            "f\n",
            "g\n",
            "h\n",
            "i\n",
            "j\n",
            "k\n",
            "l\n",
            "m\n",
            "n\n",
            "o\n",
            "p\n",
            "q\n",
            "r\n",
            "s\n",
            "t\n",
            "u\n",
            "v\n",
            "w\n",
            "x\n",
            "y\n",
            "z\n",
            "10\n",
            "1\n",
            "2\n",
            "2\n",
            "2\n",
            "2\n",
            "0\n",
            "4\n",
            "6\n",
            "0\n",
            "0\n",
            "0\n",
            "2\n",
            "7\n",
            "9\n",
            "0\n",
            "0\n",
            "2\n",
            "0\n",
            "10\n",
            "5\n",
            "2\n",
            "2\n",
            "0\n",
            "1\n",
            "0\n",
            "None\n"
          ]
        }
      ]
    }
  ]
}